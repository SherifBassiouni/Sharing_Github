{
 "cells": [
  {
   "cell_type": "code",
   "execution_count": 80,
   "metadata": {},
   "outputs": [],
   "source": [
    "# Here is a list of people, each represented by a dict that contains the person's id and his/her name \n",
    "\n",
    "people = [\n",
    "    { \"id\": 0, \"name\": \"Gamal\" },\n",
    "    { \"id\": 1, \"name\": \"Sara\" },\n",
    "    { \"id\": 2, \"name\": \"Khaled\" },\n",
    "    { \"id\": 3, \"name\": \"Samira\" },\n",
    "    { \"id\": 4, \"name\": \"Nessrin\" },\n",
    "    { \"id\": 5, \"name\": \"Lana\" },\n",
    "\n",
    "]\n",
    "# the aim is to use the friendships data below to build a function that check who know who using the person's name\n",
    "\n",
    "friendships = [(0, 1), (0, 2), (1, 0), (1, 3), (2, 0), (2, 3),\n",
    "               (3, 2), (3, 1),(4,1),(4,3),(5,1)]\n"
   ]
  },
  {
   "cell_type": "code",
   "execution_count": 81,
   "metadata": {},
   "outputs": [],
   "source": [
    "# a function to get the person's ID \n",
    "def get_id(user):\n",
    "    usr1_id = 0\n",
    "    for c in people:\n",
    "        if c['name'] == user:\n",
    "            usr1_id = usr1_id + c['id']\n",
    "            return usr1_id\n",
    "        \n",
    "# a function to to know if two people know each others         \n",
    "def does_usr1_knows_usr2(user1, user2):\n",
    "    usr1_id = get_id(user1)\n",
    "    usr2_id = get_id(user2)\n",
    "    True_or_False = False\n",
    "    for i,j in friendships:\n",
    "        if i == usr1_id and j == usr2_id:\n",
    "            True_or_False = True\n",
    "    return True_or_False\n"
   ]
  },
  {
   "cell_type": "code",
   "execution_count": 82,
   "metadata": {},
   "outputs": [
    {
     "data": {
      "text/plain": [
       "False"
      ]
     },
     "execution_count": 82,
     "metadata": {},
     "output_type": "execute_result"
    }
   ],
   "source": [
    "does_usr1_knows_usr2('Gamal', 'Nessrin')"
   ]
  },
  {
   "cell_type": "code",
   "execution_count": null,
   "metadata": {},
   "outputs": [],
   "source": []
  },
  {
   "cell_type": "code",
   "execution_count": null,
   "metadata": {},
   "outputs": [],
   "source": []
  }
 ],
 "metadata": {
  "kernelspec": {
   "display_name": "Python 3",
   "language": "python",
   "name": "python3"
  },
  "language_info": {
   "codemirror_mode": {
    "name": "ipython",
    "version": 3
   },
   "file_extension": ".py",
   "mimetype": "text/x-python",
   "name": "python",
   "nbconvert_exporter": "python",
   "pygments_lexer": "ipython3",
   "version": "3.7.4"
  }
 },
 "nbformat": 4,
 "nbformat_minor": 4
}
